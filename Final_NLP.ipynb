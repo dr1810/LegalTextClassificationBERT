{
 "cells": [
  {
   "cell_type": "code",
   "execution_count": null,
   "metadata": {
    "id": "ZXaPj-SqrZjW"
   },
   "outputs": [],
   "source": [
    "import tensorflow as tf\n",
    "from transformers import BertTokenizer, TFBertModel\n",
    "import pandas as pd\n",
    "from sklearn.model_selection import train_test_split"
   ]
  },
  {
   "cell_type": "code",
   "execution_count": null,
   "metadata": {
    "colab": {
     "base_uri": "https://localhost:8080/"
    },
    "id": "RIF_gsmDrZjZ",
    "outputId": "6b19fa54-4870-497b-f6a8-b925b1bf3fac"
   },
   "outputs": [
    {
     "name": "stderr",
     "output_type": "stream",
     "text": [
      "/usr/local/lib/python3.10/dist-packages/huggingface_hub/utils/_token.py:89: UserWarning: \n",
      "The secret `HF_TOKEN` does not exist in your Colab secrets.\n",
      "To authenticate with the Hugging Face Hub, create a token in your settings tab (https://huggingface.co/settings/tokens), set it as secret in your Google Colab and restart your session.\n",
      "You will be able to reuse this secret in all of your notebooks.\n",
      "Please note that authentication is recommended but still optional to access public models or datasets.\n",
      "  warnings.warn(\n",
      "/usr/local/lib/python3.10/dist-packages/transformers/tokenization_utils_base.py:1601: FutureWarning: `clean_up_tokenization_spaces` was not set. It will be set to `True` by default. This behavior will be depracted in transformers v4.45, and will be then set to `False` by default. For more details check this issue: https://github.com/huggingface/transformers/issues/31884\n",
      "  warnings.warn(\n",
      "Some weights of the PyTorch model were not used when initializing the TF 2.0 model TFBertModel: ['cls.predictions.bias', 'cls.predictions.transform.LayerNorm.weight', 'cls.predictions.transform.dense.weight', 'cls.predictions.transform.LayerNorm.bias', 'cls.seq_relationship.weight', 'cls.seq_relationship.bias', 'cls.predictions.transform.dense.bias']\n",
      "- This IS expected if you are initializing TFBertModel from a PyTorch model trained on another task or with another architecture (e.g. initializing a TFBertForSequenceClassification model from a BertForPreTraining model).\n",
      "- This IS NOT expected if you are initializing TFBertModel from a PyTorch model that you expect to be exactly identical (e.g. initializing a TFBertForSequenceClassification model from a BertForSequenceClassification model).\n",
      "All the weights of TFBertModel were initialized from the PyTorch model.\n",
      "If your task is similar to the task the model of the checkpoint was trained on, you can already use TFBertModel for predictions without further training.\n"
     ]
    }
   ],
   "source": [
    "tokenizer = BertTokenizer.from_pretrained('bert-base-uncased')\n",
    "bert_model = TFBertModel.from_pretrained('bert-base-uncased')"
   ]
  },
  {
   "cell_type": "code",
   "execution_count": null,
   "metadata": {
    "id": "2giNijnorZja"
   },
   "outputs": [],
   "source": [
    "df = pd.read_csv(\"/content/legal_text_classification.csv\")[:1000]"
   ]
  },
  {
   "cell_type": "code",
   "execution_count": null,
   "metadata": {
    "id": "2wOse2g7rZja"
   },
   "outputs": [],
   "source": [
    "from sklearn.preprocessing import LabelEncoder\n",
    "lab = LabelEncoder()"
   ]
  },
  {
   "cell_type": "code",
   "execution_count": null,
   "metadata": {
    "id": "y0v3U08KrZjb"
   },
   "outputs": [],
   "source": [
    "df['case_outcome'] = lab.fit_transform(df['case_outcome'])"
   ]
  },
  {
   "cell_type": "code",
   "execution_count": null,
   "metadata": {
    "id": "_Oz-kd6vrZjb"
   },
   "outputs": [],
   "source": [
    "def encode_data(data, max_len=128):\n",
    "    titles = list(data['case_title'].astype(str).values)\n",
    "    texts = list(data['case_text'].astype(str).values)\n",
    "\n",
    "    encoded_title = tokenizer(\n",
    "        titles,\n",
    "        max_length=max_len,\n",
    "        padding=True,\n",
    "        truncation=True,\n",
    "        return_tensors='tf'\n",
    "    )\n",
    "\n",
    "    encoded_text = tokenizer(\n",
    "        texts,\n",
    "        max_length=max_len,\n",
    "        padding=True,\n",
    "        truncation=True,\n",
    "        return_tensors='tf'\n",
    "    )\n",
    "\n",
    "    return encoded_title, encoded_text\n"
   ]
  },
  {
   "cell_type": "code",
   "execution_count": null,
   "metadata": {
    "id": "oe0JyyYQrZjc"
   },
   "outputs": [],
   "source": [
    "import re\n",
    "import string\n",
    "import nltk\n",
    "from nltk.stem import WordNetLemmatizer, PorterStemmer\n",
    "from nltk.tokenize import word_tokenize\n",
    "from nltk import pos_tag\n",
    "from nltk.corpus import wordnet"
   ]
  },
  {
   "cell_type": "code",
   "execution_count": null,
   "metadata": {
    "colab": {
     "base_uri": "https://localhost:8080/"
    },
    "id": "XyxFICyOrZjc",
    "outputId": "897abf30-3998-4fd1-d69a-27fcaebfcd03"
   },
   "outputs": [
    {
     "name": "stderr",
     "output_type": "stream",
     "text": [
      "[nltk_data] Downloading package averaged_perceptron_tagger_eng to\n",
      "[nltk_data]     /root/nltk_data...\n",
      "[nltk_data]   Package averaged_perceptron_tagger_eng is already up-to-\n",
      "[nltk_data]       date!\n"
     ]
    },
    {
     "data": {
      "text/plain": [
       "True"
      ]
     },
     "execution_count": 8,
     "metadata": {},
     "output_type": "execute_result"
    }
   ],
   "source": [
    "nltk.download('averaged_perceptron_tagger_eng')"
   ]
  },
  {
   "cell_type": "code",
   "execution_count": null,
   "metadata": {
    "id": "xURYOzJ5rZjc"
   },
   "outputs": [],
   "source": [
    "lemmatizer = WordNetLemmatizer()\n",
    "stemmer = PorterStemmer()"
   ]
  },
  {
   "cell_type": "code",
   "execution_count": null,
   "metadata": {
    "id": "OytZrW8PrZjd"
   },
   "outputs": [],
   "source": [
    "punctuation = string.punctuation"
   ]
  },
  {
   "cell_type": "code",
   "execution_count": null,
   "metadata": {
    "id": "UMjAi2sQrZjd"
   },
   "outputs": [],
   "source": [
    "def remove_punctuation(text):\n",
    "    return text.translate(str.maketrans('', '', punctuation))"
   ]
  },
  {
   "cell_type": "code",
   "execution_count": null,
   "metadata": {
    "id": "jbmMK3yKrZjd"
   },
   "outputs": [],
   "source": [
    "def get_wordnet_pos(tag):\n",
    "    tag_dict = {\n",
    "        'J': wordnet.ADJ,\n",
    "        'N': wordnet.NOUN,\n",
    "        'V': wordnet.VERB,\n",
    "        'R': wordnet.ADV\n",
    "    }\n",
    "    return tag_dict.get(tag[0].upper(), wordnet.NOUN)"
   ]
  },
  {
   "cell_type": "code",
   "execution_count": null,
   "metadata": {
    "id": "5eAWkrVQrZjd"
   },
   "outputs": [],
   "source": [
    "import string\n",
    "\n",
    "def preprocess_text(text):\n",
    "\n",
    "    if not isinstance(text, str):\n",
    "        return text\n",
    "    text = text.lower()\n",
    "\n",
    "    text = text.translate(str.maketrans('', '', string.punctuation))\n",
    "\n",
    "    words = text.split()\n",
    "\n",
    "    processed_text = ' '.join(words)\n",
    "\n",
    "    return processed_text\n"
   ]
  },
  {
   "cell_type": "code",
   "execution_count": null,
   "metadata": {
    "id": "SI3JAsbBrZje"
   },
   "outputs": [],
   "source": [
    "df['case_title'] = df['case_title'].apply(preprocess_text)\n",
    "df['case_text'] = df['case_text'].apply(preprocess_text)"
   ]
  },
  {
   "cell_type": "code",
   "execution_count": null,
   "metadata": {
    "colab": {
     "base_uri": "https://localhost:8080/",
     "height": 206
    },
    "id": "acLcVBgqrZje",
    "outputId": "989dfcf9-5b4c-47ea-b477-89902f76a3c1"
   },
   "outputs": [
    {
     "data": {
      "application/vnd.google.colaboratory.intrinsic+json": {
       "summary": "{\n  \"name\": \"df\",\n  \"rows\": 1000,\n  \"fields\": [\n    {\n      \"column\": \"case_id\",\n      \"properties\": {\n        \"dtype\": \"string\",\n        \"num_unique_values\": 1000,\n        \"samples\": [\n          \"Case528\",\n          \"Case747\",\n          \"Case750\"\n        ],\n        \"semantic_type\": \"\",\n        \"description\": \"\"\n      }\n    },\n    {\n      \"column\": \"case_outcome\",\n      \"properties\": {\n        \"dtype\": \"number\",\n        \"std\": 2,\n        \"min\": 0,\n        \"max\": 8,\n        \"num_unique_values\": 9,\n        \"samples\": [\n          5,\n          1,\n          3\n        ],\n        \"semantic_type\": \"\",\n        \"description\": \"\"\n      }\n    },\n    {\n      \"column\": \"case_title\",\n      \"properties\": {\n        \"dtype\": \"string\",\n        \"num_unique_values\": 959,\n        \"samples\": [\n          \"cadbury schweppes pty ltd v amcor ltd 2008 246 alr 137\",\n          \"dekkan v evans 2008 fca 1004\",\n          \"wilson v manna hill mining co pty ltd 2004 51 ascr 404\"\n        ],\n        \"semantic_type\": \"\",\n        \"description\": \"\"\n      }\n    },\n    {\n      \"column\": \"case_text\",\n      \"properties\": {\n        \"dtype\": \"string\",\n        \"num_unique_values\": 714,\n        \"samples\": [\n          \"in cox v journeaux no 2 1935 hca 48 1935 52 clr 713 dixon j as his honour then was considered the meaning of personal injury or wrong done to the bankrupt within s 633 of the bankruptcy act 19241933 cth his honour applied wilson v united counties bank ltd 1920 ac 102 and described at 721 the relevant test in the following terms the test appears to be whether the damages or part of them are to be estimated by immediate reference to pain felt by the bankrupt in respect of his mind body or character and without reference to his rights of property\",\n          \"it is sufficient for present purposes to begin by stating that in order to maintain a claim of legal professional privilege a proponent must demonstrate the communication is protected by advice privilege or litigation privilege the relationship between the two types of legal professional privilege is just one of the matters that is unclear in australian privilege law some cases support the proposition that litigation privilege is a separate category of legal professional privilege public transport authority of western australia v leighton contractors pty ltd 2007 wasca 151 at 18 see also r v king 2007 2 nzlr 137 westgold resources nl v st barbara mines ltd 2007 wasc 47 mitsubishi electric australia pty ltd v victorian work cover authority 2002 vsca 59 2002 4 vr 332 southern equities corporation ltd v west australian government holdings ltd 1993 10 war 1 and dingle v commonwealth development bank of australia 1989 23 fcr 63 on the other hand it is also true that the high court has yet to make clear whether litigation privilege has an existence and rationale distinct from the advice privilege eg leighton 2007 wasca 151 at 20 awb ltd v cole 2006 fca 571 2006 152 fcr 382 ingot capital investments pty ltd v macquarie equity capital markets ltd 2006 67 nswlr 91 westpac banking corporation v 789ten pty ltd 2005 55 acsr 519 and pratt holdings pty ltd v commissioner of taxation 2004 fcafc 122 2004 136 fcr 357 10 with respect to litigation privilege on the other hand the analysis is not so simple it is clear that the privilege applies only to documents or communications if they are made or prepared 1 in anticipation of litigation or during pending litigation and 2 for the purpose of the litigation eg with a view to obtaining legal advice or evidence for use in the litigation leighton 2007 wasca 151 at 12 that the documents in question here were all prepared at a time when litigation was anticipated or on foot was common ground a lawyerclient relationship is not required pratt holdings 2004 fcafc 122 2004 136 fcr 357 however in contrast to the settled confidentiality requirement of the advice privilege the authorities are divided as to whether litigation privilege may attach to communications or documents summarizing communications between a thirdparty independent witness and a client even where they are not confidential state of new south wales v jackson 2007 nswca 179 at 37 there is some controversy over the need for confidentiality in litigation privilege at common law and the controversy is particularly material to privilege for communications between client and third party leighton 2007 wasca 151 at 21 30 collecting and summarizing the conflicting authorities the picture becomes even more complicated if one makes a further distinction as some authorities do based on whether such witness statements are found in the hands of the witness or in the hands of the lawyer a ligertwood australian evidence 4 th ed at 29192 quoted in leighton 2007 wasca 151 at 26 11 it is at this point that the doctrinal relationship between the advice and litigation branches of the privilege becomes relevant as mclure ja noted in leighton the high court has made numerous general statements which on their face are capable of applying to all categories of legal professional privilege to the effect that the privilege only attaches to confidential communications leighton 2007 wasca 151 at 22 in fact some of those general statements can be fairly read to support the view that confidentiality is required for all categories of legal professional privilege for example in remarks quoted by brennan cj in propend 1997 hca 3 1997 188 clr 501 at 50809 mason j stated in oreilly v state bank of victoria 1982 hca 74 1983 153 clr 1 at 2223 but if communications in written form are to be privileged they must still be confidential communications between solicitor and client made for the purpose of advice or for the purpose of use in existing or anticipated litigation be that as it may i agree with mclure ja that the high court has never squarely confronted the issue leaving the field open for lower courts to take opposing views 31 that the speculation regarding witness reluctance is likely to be unfounded is further supported by the fact acknowledged by counsel for the accc that even if production of the category iii documents were barred cadbury would be free to undertake its own investigation as noted by mclure ja in leighton privilege in respect of the disputed communications would not prevent the respondent interviewing thirdparty witnesses and obtaining all relevant information from them concerning the issues in the litigation leighton 2007 wasca 151 at 31 it is perhaps therefore unsurprising that counsel for the accc ultimately fell back on a free rider argument that is that cadbury should not have the benefit of the acccs work precisely because it could easily do the work itself this argument fails for two reasons 33 second the free rider argument fails because it is ultimately founded on a theory of work product privilege not accepted in australia the work product doctrine recognized by the united states supreme court states that information or material prepared by attorneys reflecting attorney mental impressions strategy or other work product even though not documenting lawyerclient communications or otherwise within the ambit of ordinary legal professional privilege may be independently protected from discovery hickman v taylor 1947 329 us 495 the problem for the accc however is that work product is not recognized in australia as an independent head of privilege commissioner of propend 1997 hca 3 1997 188 clr 501 at 570 describing the us work product doctrine as part of general privilege law in australia gummow j leighton 2007 wasca 151 at 17 stating in australia that the work product doctrine is recognised in the context of the litigation privilege the accc itself has acknowledged this state of affairs accc position paper review of leniency policy for cartel conduct 26 august 2005 at 19 n 21 available at httpwwwacccgovaucontentitemphtmlitemid725616ampnodeid3a1faa8ec1e755f25adef02560676bf5ampfnleniency20position20paperpdf viewed 1 february 2008 40 in trade practices commission v sterling 1979 36 flr 244 246 lockhart j described the litigation privilege rule as follows communications passing between the party and a third person who is not the agent of the solicitor to receive the communication from the party if they are made with reference to litigation either anticipated or commenced and at the request or suggestion of the partys solicitor or even without any such request or suggestion they are made for the purpose of being put before the solicitor with the object of obtaining his advice or enabling him to prosecute or defend an action see also accc v ffe building services 2003 atpr 41967 at 2433 leighton 2007 wasca 151 at 12 pratt holdings 2004 fcafc 122 2004 136 fcr 357 at 1 89 and 96 44 in this regard amcors solicitor mr meadows testified that his firm allens arthur robinson was permitted to advise amcor based on knowledge it obtained in witness interviews summarized in the documents now at issue subject to any confidentiality constraints that had been agreed he added that the firms copies were not being retained for the accc thus the argument might go that while amcor may have been and may still be under some equitable or quasicontractual obligation of confidentiality ie it may not be free to simply distribute the documents as it sees fit that cannot override the obligations of compulsory court process in this case see leighton 2007 wasca 151 at 28 stating that contractual or equitable duties cannot prevail over compulsory court process 45 to restate the question it comes down to this did the accc in allowing amcor via its solicitors to make and retain copies of the category i documents engage in conduct impliedly waiving its privilege to answer the question i return to the analysis employed earlier at 1518 in contrast to the category ii and iii documents with respect to which the accc ceded complete control over disclosure to visy by filing and serving the documents the evidence with respect to category i was that the use to which amcors solicitors could put the documents was limited to one purpose and one purpose only advising the client indeed as noted earlier the three documents drafted by amcors solicitors could not even be shown to amcor the disclosure to amcor was for a limited and specific purpose advice to the client and applies only in relation to particular persons and materials amcor employees were the particular persons the materials were the communications and documents recording them the acccs conduct in allowing copies of the documents to be made and retained constitutes only a limited waiver see 18 above it follows that the category i documents are barred from production to cadbury 46 strictly speaking i need go no further however i think it appropriate before concluding to make a general observation about the acccs overall interest in this case and whether the courts are the appropriate forum for its resolution the acccs submissions and the evidence from its witnesses demonstrated a concern that the increasing threat of private suits for damages brought by cartel victims will interfere with the acccs ability to obtain the cooperation from cartel participants necessary for it to bring and prosecute penalty actions the interference was said to arise because potential cooperators will be deterred from coming forward notwithstanding offers of leniency by the prospect of having essentially given away the store in the inevitable damages actions in other words in considering whether to confess the potential costs in damages may be seen by a cartel player to outweigh the potential savings in penalties distilling the point still further one can see that the real concern of the accc that is the real deterrent to cooperation faced by the amcors of the world is damages exposure itself in my view the confidentiality and freerider arguments ostensibly advanced here by the accc are at best a proxy for that concern and at worst a smokescreen obscuring it to be fair the appropriate total level of private civil liability ie penalties plus damages an actor should face for cartel conduct is a valid issue and one which was long ago recognized by authorities and commentators in the united states in the context of cooperation and leniency see eg giancarlo spagnolo leniency and whistleblowers in antitrust centre for economic policy research discussion paper series no 5794 august 2006 at 15 available at httpwwwceprorgpubsdpsdp5794asp visited 11 february 2008 47 but to acknowledge the acccs concern is not to approve of its proposed method for resolving that concern on the contrary the acccs attempt to use common law privilege doctrine to protect cooperators when they are faced with private suits for damages albeit partially successful here appears to me to be misguided whether cartel whistleblowers such as amcor or those who cooperate with the regulators after the commencement of penalty proceedings either by settling like visy or in some other manner should be rewarded or encouraged by reduced exposure or enhanced protection in damages proceedings is a broad question of policy that should be addressed by the legislature not by ad hoc judicial tinkering through the backdoor of privilege 48 the parties and the australian competition and consumer commission may if they wish file and serve written submissions of not more than 10 pages as to 1 whether visy is still bound not to produce the category ii and category iii documents by its implied undertaking in the accc proceedings and 2 if so whether special circumstances exist such that the court in its discretion ought to release visy from that undertaking the matter will be set down for further hearing if necessary at a date to be fixed in consultation with the parties i certify that the preceding fortyeight 48 numbered paragraphs are a true copy of the reasons for judgment herein of the honourable justice gordon associate dated 19 february 2008 counsel for the applicant mr m wyles mr r peters mr a pound solicitor for the applicant mallesons stephen jaques counsel for the respondents mr p anastassiou sc solicitor for the respondents allens arthur robinson counsel for the crossrespondents mr p crutchfield solicitor for the crossrespondents arnold bloch leibler counsel for the accc mr n obryan sc mr p gray solicitor for the accc australian government solicitor date of hearing 12 13 and 20 december 2007 date of judgment 19 february 2008 appendix a category i documents document date estimated document id document description date a1190040161 draft witness statement prepared by amcors external lawyers 01jan2005 a1190040137 draft witness statement prepared by amcors external lawyers 29jun2005 a1190040157 draft witness statement prepared by amcors external lawyers 22jul2005 a1190040335 draft witness statement prepared by the accc 01jan2007 a1190040028 draft witness statement prepared by the accc 01jun2007 a1190040048 draft witness statement prepared by the accc 14jun2007 category ii documents document is also in category iii document id document description date wpall0001 unsigned proof of evidence of bruce allender undated wpamo0001 unsigned proof of evidence of jason amos undated wpand0001 unsigned proof of evidence of christopher john anderson undated wparh0001 unsigned proof of evidence of tamara arhontissas undated wpbak0001 unsigned proof of evidence of jan dirk bakker undated wpbam0001 unsigned proof of evidence of bernard norman bambling undated wpbar0001 unsigned proof of evidence of paul andrew barbagallo undated wpboe0001 unsigned proof of evidence of raymond boef undated wpbor0001 unsigned proof of evidence of joseph borg undated wpbri0001 unsigned proof of evidence of peter briscoe undated wpbro0001 unsigned proof of evidence of peter james brown undated wpchi0001 unsigned proof of evidence of steve wayne childs undated wpcla0001 unsigned proof of evidence of colin clayton undated wpcom0001 unsigned proof of evidence of alexander stephen commins undated wpcre0001 unsigned proof of evidence of barry kenneth crees undated wpdap0001 unsigned proof of evidence of david da pra undated wpdav0001 unsigned proof of evidence of colin davis undated wpdri0001 unsigned proof of evidence of david james driver undated wpdur0001 unsigned proof of evidence of rick david duri undated wpdwa0001 unsigned proof of evidence of peter ernst dwan undated wpfin0001 unsigned proof of evidence of peter archie finlayson undated wpfor0001 unsigned proof of evidence of paul manning foran undated wpfri0001 unsigned proof of evidence of andrew richard frick undated wpfro0001 unsigned proof of evidence of geoffrey frost undated wpfyf0001 unsigned proof of evidence of daniel charles fyffe undated wpghk0001 unsigned proof of evidence of greig howard kely undated wpgod0001 unsigned proof of evidence of noel godfrey undated wpgoo0001 unsigned proof of evidence of kevin peter goos undated wphag0001 unsigned proof of evidence of john hagget undated wpham0001 unsigned proof of evidence of ian alexander hamilton undated wphee0001 unsigned proof of evidence of ron hee undated wphen0001 unsigned proof of evidence of david alan henry undated wphet0001 unsigned proof of evidence of kim james hetherington undated wphib0001 unsigned proof of evidence of maurice hibbert undated wphkl0001 unsigned proof of evidence of hock kee lee undated wphod0001 unsigned proof of evidence of james george hodgson undated wphod0022 unsigned proof of evidence of james george hodgson undated wphol0001 unsigned proof of evidence of craig anthony holihan undated wpjac0001 unsigned proof of evidence of helen jackson undated wpjoh0001 unsigned proof of evidence of kerry maxwell johnston undated wpjon0001 unsigned proof of evidence of russell haydn jones undated wpkav0001 unsigned proof of evidence of michael kavanagh undated wpkei0001 unsigned proof of evidence of john robert keir undated wpkil0001 unsigned proof of evidence of david kilpatrick undated wpkin0001 unsigned proof of evidence of john daniel king undated wpkoc0001 unsigned proof of evidence of david koch undated wplai0001 unsigned proof of evidence of edward maxwell laidlaw undated wplaw0001 unsigned proof of evidence of john stanley law undated wplee0001 unsigned proof of evidence of robert charles lee undated wplew0001 unsigned proof of evidence of stephen frederick lewis undated wplex0001 unsigned proof of evidence of lex triffitt undated wpley0001 unsigned proof of evidence of nicholas leywood undated wpman0001 unsigned proof of evidence of hamish robert stanley manks undated wpmar0001 unsigned proof of evidence of daniel patrick marshall undated wpmcg0001 unsigned proof of evidence of paul mcglone undated wpmck0001 unsigned proof of evidence of paul fraser mckee undated wpmcs0001 unsigned proof of evidence of john mcshera undated wpmea0001 unsigned proof of evidence of gary meadows undated wpmen0001 unsigned proof of evidence of robert david mense undated wpmez0001 unsigned proof of evidence of avrilia mezzatesta undated wpmid0001 unsigned proof of evidence of alfred wayne middleton undated wpmil0001 unsigned proof of evidence of zane mills undated wpmim0001 unsigned proof of evidence of lou matthew mimmo undated wpmlw0001 unsigned proof of evidence of marvin louis weinman undated wpmol0001 unsigned proof of evidence of megan stacy molenaar undated wpmut0001 unsigned proof of evidence of tavis gilbert mutch undated wpnee0001 unsigned proof of evidence of ian andrew neeland undated wpole0001 unsigned proof of evidence of john oleary undated wpols0001 unsigned proof of evidence of lawrence olsen undated wposu0001 unsigned proof of evidence of anthony osullivan undated wppad0001 unsigned proof of evidence of samuel rhandiyanto padibjo undated wppaf0001 unsigned proof of evidence of paul anthony pafumi undated wppan0001 unsigned proof of evidence of maria pierina pannacchione undated wppar0001 unsigned proof of evidence of mario lino parisi undated wppel0001 unsigned proof of evidence of robert pellizzari undated wppol0001 unsigned proof of evidence of barry john pollard undated wppot0001 unsigned proof of evidence of thomas charles potter undated wppre0001 unsigned proof of evidence of murray roy prebble undated wppri0001 unsigned proof of evidence of remy anthony pribilovics undated wppyn0001 unsigned proof of evidence of robin james pyne undated wprei0001 unsigned proof of evidence of gary charles reid undated wprgb0001 unsigned proof of evidence of ronald gary brown undated wpril0001 unsigned proof of evidence of howard riley undated wpriv0001 unsigned proof of evidence of martin paul rivers undated wprob0001 unsigned proof of evidence of darryl francis roberts undated wpros0001 unsigned proof of evidence of andrew malcolm ross undated wpsan0001 unsigned proof of evidence of ian russell sangster undated wpsca0001 unsigned proof of evidence of michael scammel undated wpsfm0001 unsigned proof of evidence of shane francis moloughney undated wpsil0001 unsigned proof of evidence of peter sillcock undated wpsir0001 unsigned proof of evidence of michael sirakoff undated wpsma0001 unsigned proof of evidence of ian gregory smallwood undated wpsmi0001 unsigned proof of evidence of caroline elizabeth smith undated wpstr0001 unsigned proof of evidence of james strangio undated wpsut0001 unsigned proof of evidence of peter richard sutton undated wptho0001 unsigned proof of evidence of fyfe wrixen thorpe undated wptit0001 unsigned proof of evidence of john david titusrees undated wptre0001 unsigned proof of evidence of ronald james treffene undated wptri0001 unsigned proof of evidence of michael trinnie undated wptuf0001 unsigned proof of evidence of peter david tuffs undated wptys0001 unsigned proof of evidence of craig eric tyson undated wpvan0001 unsigned proof of evidence of stefan van den broeke undated wpwar0001 unsigned proof of evidence of stephen david warnett undated wpwat0001 unsigned proof of evidence of david watkins undated wpweg0001 unsigned proof of evidence of barry william wegmann undated wpwei0001 unsigned proof of evidence of jack chung ming wei undated wpwil0001 unsigned proof of evidence of guy alexander john wilson undated wpwit0001 unsigned proof of evidence of russell keith witcombe undated wpwoo0001 unsigned proof of evidence of paul wootten undated wpyat0001 unsigned proof of evidence of michael yates undated wpzac0001 unsigned proof of evidence of alexander zacaropoulos undated austlii copyright policy disclaimers privacy policy feedback url httpwwwaustliieduauaucasescthfca200888html\",\n          \"it has been said that s 31a lowers the bar in terms of summary judgment applications the operation of s 31a was considered by rares j in boston commercial services pty ltd v ge capital finance australasia pty ltd 2006 fca 1352 2006 236 alr 720 i do not think it necessary to enter into the interesting questions of what the particular standard imposed by the new version of s 31a might be this is because whatever the bar is the current applications pass well beneath it that is i find that they are despite their creativity devoid of merit it follows in my opinion that there should be orders under s 31a that makes it unnecessary for me to consider the operation of order 20 rule 5 or to consider the operation of order 11 rule 16 in so far as the statement of claim is concerned 40 mr gargan argued that s 31a was constitutionally invalid normally s 78b of the judiciary act 1903 cth would impose upon this court an obligation not to proceed to deal with mr gargans constitutional argument without adjourning the proceeding in order to allow the various attorneysgeneral for the states and of the commonwealth a chance to intervene however s 78b operates on constitutional matters i do not think that a constitutional argument which is completely devoid of merit amounts to a constitutional matter within the meaning of those provisions to make good that point it is necessary to take account of what the argument is 41 the argument is that s 31a operates to dictate to the federal court what the outcome of the case is there may well have been an issue if s 31a had commanded the court to dismiss a proceeding which had any of the qualities described in s 31a1a or b however the plain text of s 31a is that the court may give judgment there is simply no room to argue whatever that s 31a operates as a dictation accordingly i reject that argument the necessary consequence is that there must on both notices of motion be judgment for the first and second respondents under s 31a2 of the federal court of australia act 1976 cth\"\n        ],\n        \"semantic_type\": \"\",\n        \"description\": \"\"\n      }\n    }\n  ]\n}",
       "type": "dataframe",
       "variable_name": "df"
      },
      "text/html": [
       "\n",
       "  <div id=\"df-45eb9399-e866-49e4-ae04-90f63f21cd25\" class=\"colab-df-container\">\n",
       "    <div>\n",
       "<style scoped>\n",
       "    .dataframe tbody tr th:only-of-type {\n",
       "        vertical-align: middle;\n",
       "    }\n",
       "\n",
       "    .dataframe tbody tr th {\n",
       "        vertical-align: top;\n",
       "    }\n",
       "\n",
       "    .dataframe thead th {\n",
       "        text-align: right;\n",
       "    }\n",
       "</style>\n",
       "<table border=\"1\" class=\"dataframe\">\n",
       "  <thead>\n",
       "    <tr style=\"text-align: right;\">\n",
       "      <th></th>\n",
       "      <th>case_id</th>\n",
       "      <th>case_outcome</th>\n",
       "      <th>case_title</th>\n",
       "      <th>case_text</th>\n",
       "    </tr>\n",
       "  </thead>\n",
       "  <tbody>\n",
       "    <tr>\n",
       "      <th>0</th>\n",
       "      <td>Case1</td>\n",
       "      <td>2</td>\n",
       "      <td>alpine hardwood aust pty ltd v hardys pty ltd ...</td>\n",
       "      <td>ordinarily that discretion will be exercised s...</td>\n",
       "    </tr>\n",
       "    <tr>\n",
       "      <th>1</th>\n",
       "      <td>Case2</td>\n",
       "      <td>2</td>\n",
       "      <td>black v lipovac 1998 fca 699 1998 217 alr 386</td>\n",
       "      <td>the general principles governing the exercise ...</td>\n",
       "    </tr>\n",
       "    <tr>\n",
       "      <th>2</th>\n",
       "      <td>Case3</td>\n",
       "      <td>2</td>\n",
       "      <td>colgate palmolive co v cussons pty ltd 1993 47...</td>\n",
       "      <td>ordinarily that discretion will be exercised s...</td>\n",
       "    </tr>\n",
       "    <tr>\n",
       "      <th>3</th>\n",
       "      <td>Case4</td>\n",
       "      <td>2</td>\n",
       "      <td>dais studio pty ltd v bullett creative pty ltd...</td>\n",
       "      <td>the general principles governing the exercise ...</td>\n",
       "    </tr>\n",
       "    <tr>\n",
       "      <th>4</th>\n",
       "      <td>Case5</td>\n",
       "      <td>2</td>\n",
       "      <td>dr martens australia pty ltd v figgins holding...</td>\n",
       "      <td>the preceding general principles inform the ex...</td>\n",
       "    </tr>\n",
       "  </tbody>\n",
       "</table>\n",
       "</div>\n",
       "    <div class=\"colab-df-buttons\">\n",
       "\n",
       "  <div class=\"colab-df-container\">\n",
       "    <button class=\"colab-df-convert\" onclick=\"convertToInteractive('df-45eb9399-e866-49e4-ae04-90f63f21cd25')\"\n",
       "            title=\"Convert this dataframe to an interactive table.\"\n",
       "            style=\"display:none;\">\n",
       "\n",
       "  <svg xmlns=\"http://www.w3.org/2000/svg\" height=\"24px\" viewBox=\"0 -960 960 960\">\n",
       "    <path d=\"M120-120v-720h720v720H120Zm60-500h600v-160H180v160Zm220 220h160v-160H400v160Zm0 220h160v-160H400v160ZM180-400h160v-160H180v160Zm440 0h160v-160H620v160ZM180-180h160v-160H180v160Zm440 0h160v-160H620v160Z\"/>\n",
       "  </svg>\n",
       "    </button>\n",
       "\n",
       "  <style>\n",
       "    .colab-df-container {\n",
       "      display:flex;\n",
       "      gap: 12px;\n",
       "    }\n",
       "\n",
       "    .colab-df-convert {\n",
       "      background-color: #E8F0FE;\n",
       "      border: none;\n",
       "      border-radius: 50%;\n",
       "      cursor: pointer;\n",
       "      display: none;\n",
       "      fill: #1967D2;\n",
       "      height: 32px;\n",
       "      padding: 0 0 0 0;\n",
       "      width: 32px;\n",
       "    }\n",
       "\n",
       "    .colab-df-convert:hover {\n",
       "      background-color: #E2EBFA;\n",
       "      box-shadow: 0px 1px 2px rgba(60, 64, 67, 0.3), 0px 1px 3px 1px rgba(60, 64, 67, 0.15);\n",
       "      fill: #174EA6;\n",
       "    }\n",
       "\n",
       "    .colab-df-buttons div {\n",
       "      margin-bottom: 4px;\n",
       "    }\n",
       "\n",
       "    [theme=dark] .colab-df-convert {\n",
       "      background-color: #3B4455;\n",
       "      fill: #D2E3FC;\n",
       "    }\n",
       "\n",
       "    [theme=dark] .colab-df-convert:hover {\n",
       "      background-color: #434B5C;\n",
       "      box-shadow: 0px 1px 3px 1px rgba(0, 0, 0, 0.15);\n",
       "      filter: drop-shadow(0px 1px 2px rgba(0, 0, 0, 0.3));\n",
       "      fill: #FFFFFF;\n",
       "    }\n",
       "  </style>\n",
       "\n",
       "    <script>\n",
       "      const buttonEl =\n",
       "        document.querySelector('#df-45eb9399-e866-49e4-ae04-90f63f21cd25 button.colab-df-convert');\n",
       "      buttonEl.style.display =\n",
       "        google.colab.kernel.accessAllowed ? 'block' : 'none';\n",
       "\n",
       "      async function convertToInteractive(key) {\n",
       "        const element = document.querySelector('#df-45eb9399-e866-49e4-ae04-90f63f21cd25');\n",
       "        const dataTable =\n",
       "          await google.colab.kernel.invokeFunction('convertToInteractive',\n",
       "                                                    [key], {});\n",
       "        if (!dataTable) return;\n",
       "\n",
       "        const docLinkHtml = 'Like what you see? Visit the ' +\n",
       "          '<a target=\"_blank\" href=https://colab.research.google.com/notebooks/data_table.ipynb>data table notebook</a>'\n",
       "          + ' to learn more about interactive tables.';\n",
       "        element.innerHTML = '';\n",
       "        dataTable['output_type'] = 'display_data';\n",
       "        await google.colab.output.renderOutput(dataTable, element);\n",
       "        const docLink = document.createElement('div');\n",
       "        docLink.innerHTML = docLinkHtml;\n",
       "        element.appendChild(docLink);\n",
       "      }\n",
       "    </script>\n",
       "  </div>\n",
       "\n",
       "\n",
       "<div id=\"df-b18ce1f3-0b12-4a30-9dd4-52ae1a65dd19\">\n",
       "  <button class=\"colab-df-quickchart\" onclick=\"quickchart('df-b18ce1f3-0b12-4a30-9dd4-52ae1a65dd19')\"\n",
       "            title=\"Suggest charts\"\n",
       "            style=\"display:none;\">\n",
       "\n",
       "<svg xmlns=\"http://www.w3.org/2000/svg\" height=\"24px\"viewBox=\"0 0 24 24\"\n",
       "     width=\"24px\">\n",
       "    <g>\n",
       "        <path d=\"M19 3H5c-1.1 0-2 .9-2 2v14c0 1.1.9 2 2 2h14c1.1 0 2-.9 2-2V5c0-1.1-.9-2-2-2zM9 17H7v-7h2v7zm4 0h-2V7h2v10zm4 0h-2v-4h2v4z\"/>\n",
       "    </g>\n",
       "</svg>\n",
       "  </button>\n",
       "\n",
       "<style>\n",
       "  .colab-df-quickchart {\n",
       "      --bg-color: #E8F0FE;\n",
       "      --fill-color: #1967D2;\n",
       "      --hover-bg-color: #E2EBFA;\n",
       "      --hover-fill-color: #174EA6;\n",
       "      --disabled-fill-color: #AAA;\n",
       "      --disabled-bg-color: #DDD;\n",
       "  }\n",
       "\n",
       "  [theme=dark] .colab-df-quickchart {\n",
       "      --bg-color: #3B4455;\n",
       "      --fill-color: #D2E3FC;\n",
       "      --hover-bg-color: #434B5C;\n",
       "      --hover-fill-color: #FFFFFF;\n",
       "      --disabled-bg-color: #3B4455;\n",
       "      --disabled-fill-color: #666;\n",
       "  }\n",
       "\n",
       "  .colab-df-quickchart {\n",
       "    background-color: var(--bg-color);\n",
       "    border: none;\n",
       "    border-radius: 50%;\n",
       "    cursor: pointer;\n",
       "    display: none;\n",
       "    fill: var(--fill-color);\n",
       "    height: 32px;\n",
       "    padding: 0;\n",
       "    width: 32px;\n",
       "  }\n",
       "\n",
       "  .colab-df-quickchart:hover {\n",
       "    background-color: var(--hover-bg-color);\n",
       "    box-shadow: 0 1px 2px rgba(60, 64, 67, 0.3), 0 1px 3px 1px rgba(60, 64, 67, 0.15);\n",
       "    fill: var(--button-hover-fill-color);\n",
       "  }\n",
       "\n",
       "  .colab-df-quickchart-complete:disabled,\n",
       "  .colab-df-quickchart-complete:disabled:hover {\n",
       "    background-color: var(--disabled-bg-color);\n",
       "    fill: var(--disabled-fill-color);\n",
       "    box-shadow: none;\n",
       "  }\n",
       "\n",
       "  .colab-df-spinner {\n",
       "    border: 2px solid var(--fill-color);\n",
       "    border-color: transparent;\n",
       "    border-bottom-color: var(--fill-color);\n",
       "    animation:\n",
       "      spin 1s steps(1) infinite;\n",
       "  }\n",
       "\n",
       "  @keyframes spin {\n",
       "    0% {\n",
       "      border-color: transparent;\n",
       "      border-bottom-color: var(--fill-color);\n",
       "      border-left-color: var(--fill-color);\n",
       "    }\n",
       "    20% {\n",
       "      border-color: transparent;\n",
       "      border-left-color: var(--fill-color);\n",
       "      border-top-color: var(--fill-color);\n",
       "    }\n",
       "    30% {\n",
       "      border-color: transparent;\n",
       "      border-left-color: var(--fill-color);\n",
       "      border-top-color: var(--fill-color);\n",
       "      border-right-color: var(--fill-color);\n",
       "    }\n",
       "    40% {\n",
       "      border-color: transparent;\n",
       "      border-right-color: var(--fill-color);\n",
       "      border-top-color: var(--fill-color);\n",
       "    }\n",
       "    60% {\n",
       "      border-color: transparent;\n",
       "      border-right-color: var(--fill-color);\n",
       "    }\n",
       "    80% {\n",
       "      border-color: transparent;\n",
       "      border-right-color: var(--fill-color);\n",
       "      border-bottom-color: var(--fill-color);\n",
       "    }\n",
       "    90% {\n",
       "      border-color: transparent;\n",
       "      border-bottom-color: var(--fill-color);\n",
       "    }\n",
       "  }\n",
       "</style>\n",
       "\n",
       "  <script>\n",
       "    async function quickchart(key) {\n",
       "      const quickchartButtonEl =\n",
       "        document.querySelector('#' + key + ' button');\n",
       "      quickchartButtonEl.disabled = true;  // To prevent multiple clicks.\n",
       "      quickchartButtonEl.classList.add('colab-df-spinner');\n",
       "      try {\n",
       "        const charts = await google.colab.kernel.invokeFunction(\n",
       "            'suggestCharts', [key], {});\n",
       "      } catch (error) {\n",
       "        console.error('Error during call to suggestCharts:', error);\n",
       "      }\n",
       "      quickchartButtonEl.classList.remove('colab-df-spinner');\n",
       "      quickchartButtonEl.classList.add('colab-df-quickchart-complete');\n",
       "    }\n",
       "    (() => {\n",
       "      let quickchartButtonEl =\n",
       "        document.querySelector('#df-b18ce1f3-0b12-4a30-9dd4-52ae1a65dd19 button');\n",
       "      quickchartButtonEl.style.display =\n",
       "        google.colab.kernel.accessAllowed ? 'block' : 'none';\n",
       "    })();\n",
       "  </script>\n",
       "</div>\n",
       "\n",
       "    </div>\n",
       "  </div>\n"
      ],
      "text/plain": [
       "  case_id  case_outcome                                         case_title  \\\n",
       "0   Case1             2  alpine hardwood aust pty ltd v hardys pty ltd ...   \n",
       "1   Case2             2      black v lipovac 1998 fca 699 1998 217 alr 386   \n",
       "2   Case3             2  colgate palmolive co v cussons pty ltd 1993 47...   \n",
       "3   Case4             2  dais studio pty ltd v bullett creative pty ltd...   \n",
       "4   Case5             2  dr martens australia pty ltd v figgins holding...   \n",
       "\n",
       "                                           case_text  \n",
       "0  ordinarily that discretion will be exercised s...  \n",
       "1  the general principles governing the exercise ...  \n",
       "2  ordinarily that discretion will be exercised s...  \n",
       "3  the general principles governing the exercise ...  \n",
       "4  the preceding general principles inform the ex...  "
      ]
     },
     "execution_count": 15,
     "metadata": {},
     "output_type": "execute_result"
    }
   ],
   "source": [
    "df.head()"
   ]
  },
  {
   "cell_type": "code",
   "execution_count": null,
   "metadata": {
    "id": "h36iz1twrZje"
   },
   "outputs": [],
   "source": [
    "X_train, X_test, y_train, y_test = train_test_split(\n",
    "    df[['case_title', 'case_text']],\n",
    "    df['case_outcome'],\n",
    "    test_size=0.2,\n",
    "    random_state=42\n",
    ")"
   ]
  },
  {
   "cell_type": "code",
   "execution_count": null,
   "metadata": {
    "id": "bknqERTsrZje"
   },
   "outputs": [],
   "source": [
    "train_encoded_title, train_encoded_text = encode_data(X_train)\n",
    "test_encoded_title, test_encoded_text = encode_data(X_test)"
   ]
  },
  {
   "cell_type": "code",
   "execution_count": null,
   "metadata": {
    "id": "nZBG6rDHrZje"
   },
   "outputs": [],
   "source": [
    "train_title_embeddings = bert_model(train_encoded_title['input_ids'], attention_mask=train_encoded_title['attention_mask'])\n",
    "train_text_embeddings = bert_model(train_encoded_text['input_ids'], attention_mask=train_encoded_text['attention_mask'])\n",
    "test_title_embeddings = bert_model(test_encoded_title['input_ids'], attention_mask=test_encoded_title['attention_mask'])\n",
    "test_text_embeddings = bert_model(test_encoded_text['input_ids'], attention_mask=test_encoded_text['attention_mask'])"
   ]
  },
  {
   "cell_type": "code",
   "execution_count": null,
   "metadata": {
    "id": "fBM724OArZjf"
   },
   "outputs": [],
   "source": [
    "class CustomBertModel(tf.keras.Model):\n",
    "    def __init__(self, bert_model, num_classes):\n",
    "        super(CustomBertModel, self).__init__()\n",
    "        self.bert_text = bert_model\n",
    "        self.bert_title = bert_model\n",
    "        self.w1 = tf.Variable(initial_value=1.0, trainable=True, name=\"w1\")\n",
    "        self.w2 = tf.Variable(initial_value=1.0, trainable=True, name=\"w2\")\n",
    "        self.classifier = tf.keras.layers.Dense(num_classes, activation='softmax')\n",
    "\n",
    "    def call(self, inputs):\n",
    "        input_ids_text, attention_mask_text, input_ids_title, attention_mask_title = inputs\n",
    "\n",
    "        text_output = self.bert_text(input_ids_text, attention_mask=attention_mask_text, return_dict=True).last_hidden_state\n",
    "        title_output = self.bert_title(input_ids_title, attention_mask=attention_mask_title, return_dict=True).last_hidden_state\n",
    "\n",
    "        text_cls_embedding = text_output[:, 0, :]\n",
    "        title_cls_embedding = title_output[:, 0, :]\n",
    "        combined_output = self.w1 * text_cls_embedding + self.w2 * title_cls_embedding\n",
    "\n",
    "        logits = self.classifier(combined_output)\n",
    "        return logits\n"
   ]
  },
  {
   "cell_type": "code",
   "execution_count": null,
   "metadata": {
    "id": "d1WnIOLJrZjf"
   },
   "outputs": [],
   "source": [
    "num_classes = df['case_outcome'].nunique()\n",
    "custom_bert_model = CustomBertModel(bert_model=bert_model, num_classes=num_classes)"
   ]
  },
  {
   "cell_type": "code",
   "execution_count": null,
   "metadata": {
    "id": "oWzPsHDhrZjf"
   },
   "outputs": [],
   "source": [
    "for layer in bert_model.layers:\n",
    "    layer.trainable = True\n",
    "bert_model.get_layer(\"bert\").pooler.trainable = False"
   ]
  },
  {
   "cell_type": "code",
   "execution_count": null,
   "metadata": {
    "id": "h6OirsWlrZjf"
   },
   "outputs": [],
   "source": [
    "custom_bert_model.compile(\n",
    "    optimizer=tf.keras.optimizers.Adam(learning_rate=2e-5),\n",
    "    loss=tf.keras.losses.SparseCategoricalCrossentropy(from_logits=False),\n",
    "    metrics=['accuracy']\n",
    ")"
   ]
  },
  {
   "cell_type": "code",
   "execution_count": null,
   "metadata": {
    "id": "Hn0EKx-xrZjf"
   },
   "outputs": [],
   "source": [
    "train_input_ids_text = train_encoded_text['input_ids']\n",
    "train_attention_mask_text = train_encoded_text['attention_mask']\n",
    "train_input_ids_title = train_encoded_title['input_ids']\n",
    "train_attention_mask_title = train_encoded_title['attention_mask']\n",
    "\n",
    "test_input_ids_text = test_encoded_text['input_ids']\n",
    "test_attention_mask_text = test_encoded_text['attention_mask']\n",
    "test_input_ids_title = test_encoded_title['input_ids']\n",
    "test_attention_mask_title = test_encoded_title['attention_mask']"
   ]
  },
  {
   "cell_type": "code",
   "execution_count": null,
   "metadata": {
    "id": "9Uy8BGqJrZjg"
   },
   "outputs": [],
   "source": [
    "inputs = [\n",
    "    train_input_ids_text, train_attention_mask_text,\n",
    "    train_input_ids_title, train_attention_mask_title\n",
    "]\n"
   ]
  },
  {
   "cell_type": "code",
   "execution_count": null,
   "metadata": {
    "id": "z0vjfuiPrZjg"
   },
   "outputs": [],
   "source": [
    "val_inputs = [\n",
    "    test_input_ids_text, test_attention_mask_text,\n",
    "    test_input_ids_title, test_attention_mask_title\n",
    "]"
   ]
  },
  {
   "cell_type": "code",
   "execution_count": null,
   "metadata": {
    "colab": {
     "base_uri": "https://localhost:8080/"
    },
    "id": "IvZDOc09rZjg",
    "outputId": "0da822f3-5f88-47e1-b636-ee80e2e427fa"
   },
   "outputs": [
    {
     "name": "stdout",
     "output_type": "stream",
     "text": [
      "Epoch 1/5\n",
      "80/80 [==============================] - 1846s 22s/step - loss: 1.6845 - accuracy: 0.4425 - val_loss: 1.5923 - val_accuracy: 0.4500\n",
      "Epoch 2/5\n",
      "80/80 [==============================] - 1759s 22s/step - loss: 1.4149 - accuracy: 0.5138 - val_loss: 1.5937 - val_accuracy: 0.4250\n",
      "Epoch 3/5\n",
      "80/80 [==============================] - 1755s 22s/step - loss: 1.0310 - accuracy: 0.6450 - val_loss: 1.5286 - val_accuracy: 0.4800\n",
      "Epoch 4/5\n",
      "80/80 [==============================] - 1777s 22s/step - loss: 0.5668 - accuracy: 0.8175 - val_loss: 1.9421 - val_accuracy: 0.5000\n",
      "Epoch 5/5\n",
      "80/80 [==============================] - 1782s 22s/step - loss: 0.2856 - accuracy: 0.9237 - val_loss: 1.9806 - val_accuracy: 0.5100\n"
     ]
    }
   ],
   "source": [
    "history = custom_bert_model.fit(\n",
    "    inputs,\n",
    "    y_train,\n",
    "    validation_data=(val_inputs, y_test),\n",
    "    epochs=5,\n",
    "    batch_size=10\n",
    ")"
   ]
  },
  {
   "cell_type": "code",
   "execution_count": null,
   "metadata": {
    "colab": {
     "base_uri": "https://localhost:8080/"
    },
    "id": "xkK9441FrZjg",
    "outputId": "c3e204cb-c97b-4227-a8ad-d5b4033aa5c8"
   },
   "outputs": [
    {
     "name": "stdout",
     "output_type": "stream",
     "text": [
      "7/7 [==============================] - 125s 16s/step - loss: 1.9806 - accuracy: 0.5100\n",
      "Validation Loss: 1.9806, Validation Accuracy: 0.5100\n"
     ]
    }
   ],
   "source": [
    "custom_bert_model.save_weights(\"project_weights.h5\")\n",
    "loss, accuracy = custom_bert_model.evaluate(val_inputs, y_test)\n",
    "print(f'Validation Loss: {loss:.4f}, Validation Accuracy: {accuracy:.4f}')"
   ]
  },
  {
   "cell_type": "code",
   "execution_count": null,
   "metadata": {
    "colab": {
     "base_uri": "https://localhost:8080/",
     "height": 487
    },
    "id": "3MxKQJACrZjg",
    "outputId": "a7a5403d-6a83-4003-dda2-35d58d306efa"
   },
   "outputs": [
    {
     "data": {
      "image/png": "[encoded data removed]",
      "text/plain": [
       "<Figure size 1000x500 with 1 Axes>"
      ]
     },
     "metadata": {},
     "output_type": "display_data"
    }
   ],
   "source": [
    "import matplotlib.pyplot as plt\n",
    "plt.figure(figsize=(10, 5))\n",
    "plt.plot(history.history['loss'], label='Training Loss')\n",
    "plt.plot(history.history['val_loss'], label='Validation Loss')\n",
    "plt.title('Training and Validation Loss')\n",
    "plt.xlabel('Epochs')\n",
    "plt.ylabel('Loss')\n",
    "plt.legend()\n",
    "plt.grid()\n",
    "plt.show()"
   ]
  },
  {
   "cell_type": "code",
   "execution_count": null,
   "metadata": {
    "colab": {
     "base_uri": "https://localhost:8080/",
     "height": 487
    },
    "id": "8a7vSdtfrZjh",
    "outputId": "fce5f48e-c6c2-4714-8e36-aace2889bba2"
   },
   "outputs": [
    {
     "data": {
      "image/png": "[encoded data removed]",
      "text/plain": [
       "<Figure size 1000x500 with 1 Axes>"
      ]
     },
     "metadata": {},
     "output_type": "display_data"
    }
   ],
   "source": [
    "plt.figure(figsize=(10, 5))\n",
    "plt.plot(history.history['accuracy'], label='Training Accuracy')\n",
    "plt.plot(history.history['val_accuracy'], label='Validation Accuracy')\n",
    "plt.title('Training and Validation Accuracy')\n",
    "plt.xlabel('Epochs')\n",
    "plt.ylabel('Accuracy')\n",
    "plt.legend()\n",
    "plt.grid()\n",
    "plt.show()"
   ]
  },
  {
   "cell_type": "code",
   "execution_count": null,
   "metadata": {
    "colab": {
     "base_uri": "https://localhost:8080/"
    },
    "id": "96kZNm80rZjh",
    "outputId": "2f0a6baa-8b25-4f2d-f168-be150bf6e181"
   },
   "outputs": [
    {
     "name": "stdout",
     "output_type": "stream",
     "text": [
      "7/7 [==============================] - 145s 19s/step\n"
     ]
    }
   ],
   "source": [
    "import numpy as np\n",
    "from sklearn.metrics import confusion_matrix, classification_report, ConfusionMatrixDisplay\n",
    "y_pred_probs = custom_bert_model.predict(val_inputs)\n",
    "y_pred = np.argmax(y_pred_probs, axis=1)"
   ]
  },
  {
   "cell_type": "code",
   "execution_count": null,
   "metadata": {
    "colab": {
     "base_uri": "https://localhost:8080/"
    },
    "id": "7Q-YpRoHrZjh",
    "outputId": "909ee8e1-2fa6-466e-e00e-b9ac0cc20448"
   },
   "outputs": [
    {
     "name": "stdout",
     "output_type": "stream",
     "text": [
      "Confusion Matrix:\n",
      "[[ 0  0  1  0  0  0  0  0  0]\n",
      " [ 0  2 15  0  0  0  4  2  0]\n",
      " [ 0  2 65  8  2  0  3 10  0]\n",
      " [ 0  0  8  4  0  0  3  3  0]\n",
      " [ 0  0  0  1  1  0  1  5  0]\n",
      " [ 0  0  1  0  0  0  0  1  0]\n",
      " [ 0  0  8  1  1  0 10  3  0]\n",
      " [ 0  1  9  3  1  0  0 19  0]\n",
      " [ 0  0  1  0  0  0  0  0  1]]\n"
     ]
    }
   ],
   "source": [
    "cm = confusion_matrix(y_test, y_pred)\n",
    "print(\"Confusion Matrix:\")\n",
    "print(cm)"
   ]
  },
  {
   "cell_type": "code",
   "execution_count": null,
   "metadata": {
    "colab": {
     "base_uri": "https://localhost:8080/",
     "height": 528
    },
    "id": "uZFaihStrZjh",
    "outputId": "d3092557-d1ae-48d2-96fc-d8f7110162d9"
   },
   "outputs": [
    {
     "data": {
      "text/plain": [
       "<Figure size 1200x2400 with 0 Axes>"
      ]
     },
     "metadata": {},
     "output_type": "display_data"
    },
    {
     "data": {
      "image/png": "[encoded data removed]",
      "text/plain": [
       "<Figure size 640x480 with 2 Axes>"
      ]
     },
     "metadata": {},
     "output_type": "display_data"
    }
   ],
   "source": [
    "import matplotlib.pyplot as plt\n",
    "from sklearn.metrics import ConfusionMatrixDisplay\n",
    "\n",
    "disp = ConfusionMatrixDisplay(confusion_matrix=cm, display_labels=lab.inverse_transform(df[\"case_outcome\"].unique()))\n",
    "plt.figure(figsize=(12, 24))\n",
    "disp.plot(cmap=plt.cm.Blues, xticks_rotation=45)\n",
    "plt.xticks(fontsize=10)\n",
    "plt.yticks(fontsize=10)\n",
    "plt.show()\n"
   ]
  },
  {
   "cell_type": "code",
   "execution_count": null,
   "metadata": {
    "colab": {
     "base_uri": "https://localhost:8080/"
    },
    "id": "Ajc09Q7PrZji",
    "outputId": "339af9b5-b2b2-4eb9-e794-59e8c860eb10"
   },
   "outputs": [
    {
     "name": "stdout",
     "output_type": "stream",
     "text": [
      "Classification Report:\n",
      "              precision    recall  f1-score   support\n",
      "\n",
      "           0       0.00      0.00      0.00         1\n",
      "           1       0.40      0.09      0.14        23\n",
      "           2       0.60      0.72      0.66        90\n",
      "           3       0.24      0.22      0.23        18\n",
      "           4       0.20      0.12      0.15         8\n",
      "           5       0.00      0.00      0.00         2\n",
      "           6       0.48      0.43      0.45        23\n",
      "           7       0.44      0.58      0.50        33\n",
      "           8       1.00      0.50      0.67         2\n",
      "\n",
      "    accuracy                           0.51       200\n",
      "   macro avg       0.37      0.30      0.31       200\n",
      "weighted avg       0.48      0.51      0.48       200\n",
      "\n"
     ]
    },
    {
     "name": "stderr",
     "output_type": "stream",
     "text": [
      "/usr/local/lib/python3.10/dist-packages/sklearn/metrics/_classification.py:1531: UndefinedMetricWarning: Precision is ill-defined and being set to 0.0 in labels with no predicted samples. Use `zero_division` parameter to control this behavior.\n",
      "  _warn_prf(average, modifier, f\"{metric.capitalize()} is\", len(result))\n",
      "/usr/local/lib/python3.10/dist-packages/sklearn/metrics/_classification.py:1531: UndefinedMetricWarning: Precision is ill-defined and being set to 0.0 in labels with no predicted samples. Use `zero_division` parameter to control this behavior.\n",
      "  _warn_prf(average, modifier, f\"{metric.capitalize()} is\", len(result))\n",
      "/usr/local/lib/python3.10/dist-packages/sklearn/metrics/_classification.py:1531: UndefinedMetricWarning: Precision is ill-defined and being set to 0.0 in labels with no predicted samples. Use `zero_division` parameter to control this behavior.\n",
      "  _warn_prf(average, modifier, f\"{metric.capitalize()} is\", len(result))\n"
     ]
    }
   ],
   "source": [
    "print(\"Classification Report:\")\n",
    "print(classification_report(y_test, y_pred))"
   ]
  },
  {
   "cell_type": "code",
   "execution_count": null,
   "metadata": {
    "id": "IH4nklsjrZji"
   },
   "outputs": [],
   "source": [
    "indian_case_title = \"India. Com, Inc. v. Dalal\"\n",
    "indian_case_text = \"Dalal's motion for reconsideration of the April 18, 2006 Opinion entering judgment for the plaintiff EasyLink is denied.\""
   ]
  },
  {
   "cell_type": "code",
   "execution_count": null,
   "metadata": {
    "id": "EMJDcvufgtm5"
   },
   "outputs": [],
   "source": [
    "indian_case_title_processed = preprocess_text(indian_case_title)\n",
    "indian_case_text_processed = preprocess_text(indian_case_text)"
   ]
  },
  {
   "cell_type": "code",
   "execution_count": null,
   "metadata": {
    "id": "gE-lTnt2gxMV"
   },
   "outputs": [],
   "source": [
    "indian_case_df = pd.DataFrame({'case_title': [indian_case_title_processed], 'case_text': [indian_case_text_processed]})\n",
    "encoded_title, encoded_text = encode_data(indian_case_df)"
   ]
  },
  {
   "cell_type": "code",
   "execution_count": null,
   "metadata": {
    "id": "pdRezalfhGeI"
   },
   "outputs": [],
   "source": [
    "input_ids_text = encoded_text['input_ids']\n",
    "attention_mask_text = encoded_text['attention_mask']\n",
    "input_ids_title = encoded_title['input_ids']\n",
    "attention_mask_title = encoded_title['attention_mask']"
   ]
  },
  {
   "cell_type": "code",
   "execution_count": null,
   "metadata": {
    "colab": {
     "base_uri": "https://localhost:8080/"
    },
    "id": "7O0JLZfahJCY",
    "outputId": "3a337d41-57f2-4bfb-8c46-bf8989d72a47"
   },
   "outputs": [
    {
     "name": "stdout",
     "output_type": "stream",
     "text": [
      "1/1 [==============================] - 15s 15s/step\n"
     ]
    }
   ],
   "source": [
    "inputs = [input_ids_text, attention_mask_text, input_ids_title, attention_mask_title]\n",
    "pred_probs = custom_bert_model.predict(inputs)\n",
    "predicted_class = np.argmax(pred_probs, axis=1)"
   ]
  },
  {
   "cell_type": "code",
   "execution_count": null,
   "metadata": {
    "colab": {
     "base_uri": "https://localhost:8080/",
     "height": 105
    },
    "id": "V5ib8Q9shLLR",
    "outputId": "6b740ae7-5626-4d3f-9f1e-986c11796329"
   },
   "outputs": [
    {
     "name": "stdout",
     "output_type": "stream",
     "text": [
      "Predicted Outcome: referred to\n"
     ]
    },
    {
     "data": {
      "application/vnd.google.colaboratory.intrinsic+json": {
       "type": "string"
      },
      "text/plain": [
       "'In this legal context, \"refer to\" aligns with how the court’s language often specifies references to previous evidence, court orders, or findings, which are pivotal to the reasoning in judicial opinions. The court explicitly encouraged the parties to “refer to the detailed findings of fact made by the Court following trial” and to make arguments based on these or any overlooked trial record evidence. This direction highlights the emphasis on reviewing established evidence rather than introducing new facts, as Dalal sought to do in his motion for reconsideration. Therefore, \"refer to\" accurately fits this judicial style focused on established records and factual references in deliberations.'"
      ]
     },
     "execution_count": 45,
     "metadata": {},
     "output_type": "execute_result"
    }
   ],
   "source": [
    "outcome_label = lab.inverse_transform(predicted_class)\n",
    "print(\"Predicted Outcome:\", outcome_label[0])\n",
    "\"\"\"In this legal context, \"refer to\" aligns with how the court’s language often specifies references to previous evidence, court orders, or findings, which are pivotal to the reasoning in judicial opinions. The court explicitly encouraged the parties to “refer to the detailed findings of fact made by the Court following trial” and to make arguments based on these or any overlooked trial record evidence. This direction highlights the emphasis on reviewing established evidence rather than introducing new facts, as Dalal sought to do in his motion for reconsideration. Therefore, \"refer to\" accurately fits this judicial style focused on established records and factual references in deliberations.\"\"\""
   ]
  },
  {
   "cell_type": "code",
   "execution_count": null,
   "metadata": {
    "id": "Qz2hT3fqhPgk"
   },
   "outputs": [],
   "source": []
  }
 ],
 "metadata": {
  "colab": {
   "provenance": []
  },
  "kernelspec": {
   "display_name": "Python 3",
   "language": "python",
   "name": "python3"
  },
  "language_info": {
   "codemirror_mode": {
    "name": "ipython",
    "version": 3
   },
   "file_extension": ".py",
   "mimetype": "text/x-python",
   "name": "python",
   "nbconvert_exporter": "python",
   "pygments_lexer": "ipython3",
   "version": "3.10.11"
  }
 },
 "nbformat": 4,
 "nbformat_minor": 0
}
